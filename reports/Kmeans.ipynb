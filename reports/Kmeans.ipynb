{
 "cells": [
  {
   "cell_type": "markdown",
   "source": [
    "# Testing Kmeans on a 2D point cloud with 3 clusters"
   ],
   "metadata": {
    "collapsed": false
   },
   "id": "f384c8c7d9fc8f7e"
  },
  {
   "cell_type": "markdown",
   "source": [
    "#put image here\n"
   ],
   "metadata": {
    "collapsed": false
   },
   "id": "31e3a49377f48ab0"
  },
  {
   "cell_type": "code",
   "outputs": [],
   "source": [],
   "metadata": {
    "collapsed": false
   },
   "id": "f476b3c0b6845fb4"
  },
  {
   "cell_type": "markdown",
   "source": [],
   "metadata": {
    "collapsed": false
   },
   "id": "764389dd2aebad21"
  }
 ],
 "metadata": {
  "kernelspec": {
   "display_name": "Python 3",
   "language": "python",
   "name": "python3"
  },
  "language_info": {
   "codemirror_mode": {
    "name": "ipython",
    "version": 2
   },
   "file_extension": ".py",
   "mimetype": "text/x-python",
   "name": "python",
   "nbconvert_exporter": "python",
   "pygments_lexer": "ipython2",
   "version": "2.7.6"
  }
 },
 "nbformat": 4,
 "nbformat_minor": 5
}
